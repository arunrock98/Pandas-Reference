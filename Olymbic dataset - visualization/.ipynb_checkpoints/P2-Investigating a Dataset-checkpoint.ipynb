{
 "cells": [
  {
   "cell_type": "markdown",
   "metadata": {},
   "source": [
    "# P2 - Investigate a Dataset\n",
    "\n",
    "#### Dataset Used : Titanic ( https://www.kaggle.com/c/titanic )\n",
    "\n",
    "This dataset basically includes information regarding all the passengers on Titanic . Various attributes of passengers like age , sex , class ,etc. is recorded and final label 'survived' determines whether or the passenger survived or not .\n"
   ]
  },
  {
   "cell_type": "markdown",
   "metadata": {},
   "source": [
    "## 1 . Question Phase  \n",
    "\n",
    "Based on the titanic dataset, I would like to find the effect of the following factors on the survival rate :  \n",
    "a) Age  \n",
    "b) Gender  \n",
    "c) Family Size  \n",
    "d) Port Of Embarkment\n"
   ]
  },
  {
   "cell_type": "markdown",
   "metadata": {},
   "source": [
    "## 2a . Wrangling - Data Acquisition  \n"
   ]
  },
  {
   "cell_type": "code",
   "execution_count": 1,
   "metadata": {},
   "outputs": [
    {
     "name": "stderr",
     "output_type": "stream",
     "text": [
      "/home/kashif/anaconda_new/lib/python2.7/site-packages/matplotlib/font_manager.py:273: UserWarning: Matplotlib is building the font cache using fc-list. This may take a moment.\n",
      "  warnings.warn('Matplotlib is building the font cache using fc-list. This may take a moment.')\n"
     ]
    }
   ],
   "source": [
    "import numpy as np\n",
    "import pandas as pd\n",
    "import matplotlib.pyplot as plt\n",
    "%matplotlib inline\n",
    "\n",
    "titanic_data_df = pd.read_csv('titanic-data.csv')"
   ]
  },
  {
   "cell_type": "markdown",
   "metadata": {},
   "source": [
    "## 2b. Wrangling - Data investigation"
   ]
  },
  {
   "cell_type": "code",
   "execution_count": 2,
   "metadata": {},
   "outputs": [
    {
     "name": "stdout",
     "output_type": "stream",
     "text": [
      "<class 'pandas.core.frame.DataFrame'>\n",
      "RangeIndex: 891 entries, 0 to 890\n",
      "Data columns (total 12 columns):\n",
      "PassengerId    891 non-null int64\n",
      "Survived       891 non-null int64\n",
      "Pclass         891 non-null int64\n",
      "Name           891 non-null object\n",
      "Sex            891 non-null object\n",
      "Age            714 non-null float64\n",
      "SibSp          891 non-null int64\n",
      "Parch          891 non-null int64\n",
      "Ticket         891 non-null object\n",
      "Fare           891 non-null float64\n",
      "Cabin          204 non-null object\n",
      "Embarked       889 non-null object\n",
      "dtypes: float64(2), int64(5), object(5)\n",
      "memory usage: 83.6+ KB\n"
     ]
    }
   ],
   "source": [
    "titanic_data_df.info()"
   ]
  },
  {
   "cell_type": "code",
   "execution_count": 3,
   "metadata": {},
   "outputs": [
    {
     "data": {
      "text/html": [
       "<div>\n",
       "<table border=\"1\" class=\"dataframe\">\n",
       "  <thead>\n",
       "    <tr style=\"text-align: right;\">\n",
       "      <th></th>\n",
       "      <th>PassengerId</th>\n",
       "      <th>Survived</th>\n",
       "      <th>Pclass</th>\n",
       "      <th>Name</th>\n",
       "      <th>Sex</th>\n",
       "      <th>Age</th>\n",
       "      <th>SibSp</th>\n",
       "      <th>Parch</th>\n",
       "      <th>Ticket</th>\n",
       "      <th>Fare</th>\n",
       "      <th>Cabin</th>\n",
       "      <th>Embarked</th>\n",
       "    </tr>\n",
       "  </thead>\n",
       "  <tbody>\n",
       "    <tr>\n",
       "      <th>0</th>\n",
       "      <td>1</td>\n",
       "      <td>0</td>\n",
       "      <td>3</td>\n",
       "      <td>Braund, Mr. Owen Harris</td>\n",
       "      <td>male</td>\n",
       "      <td>22.0</td>\n",
       "      <td>1</td>\n",
       "      <td>0</td>\n",
       "      <td>A/5 21171</td>\n",
       "      <td>7.2500</td>\n",
       "      <td>NaN</td>\n",
       "      <td>S</td>\n",
       "    </tr>\n",
       "    <tr>\n",
       "      <th>1</th>\n",
       "      <td>2</td>\n",
       "      <td>1</td>\n",
       "      <td>1</td>\n",
       "      <td>Cumings, Mrs. John Bradley (Florence Briggs Th...</td>\n",
       "      <td>female</td>\n",
       "      <td>38.0</td>\n",
       "      <td>1</td>\n",
       "      <td>0</td>\n",
       "      <td>PC 17599</td>\n",
       "      <td>71.2833</td>\n",
       "      <td>C85</td>\n",
       "      <td>C</td>\n",
       "    </tr>\n",
       "    <tr>\n",
       "      <th>2</th>\n",
       "      <td>3</td>\n",
       "      <td>1</td>\n",
       "      <td>3</td>\n",
       "      <td>Heikkinen, Miss. Laina</td>\n",
       "      <td>female</td>\n",
       "      <td>26.0</td>\n",
       "      <td>0</td>\n",
       "      <td>0</td>\n",
       "      <td>STON/O2. 3101282</td>\n",
       "      <td>7.9250</td>\n",
       "      <td>NaN</td>\n",
       "      <td>S</td>\n",
       "    </tr>\n",
       "    <tr>\n",
       "      <th>3</th>\n",
       "      <td>4</td>\n",
       "      <td>1</td>\n",
       "      <td>1</td>\n",
       "      <td>Futrelle, Mrs. Jacques Heath (Lily May Peel)</td>\n",
       "      <td>female</td>\n",
       "      <td>35.0</td>\n",
       "      <td>1</td>\n",
       "      <td>0</td>\n",
       "      <td>113803</td>\n",
       "      <td>53.1000</td>\n",
       "      <td>C123</td>\n",
       "      <td>S</td>\n",
       "    </tr>\n",
       "    <tr>\n",
       "      <th>4</th>\n",
       "      <td>5</td>\n",
       "      <td>0</td>\n",
       "      <td>3</td>\n",
       "      <td>Allen, Mr. William Henry</td>\n",
       "      <td>male</td>\n",
       "      <td>35.0</td>\n",
       "      <td>0</td>\n",
       "      <td>0</td>\n",
       "      <td>373450</td>\n",
       "      <td>8.0500</td>\n",
       "      <td>NaN</td>\n",
       "      <td>S</td>\n",
       "    </tr>\n",
       "    <tr>\n",
       "      <th>5</th>\n",
       "      <td>6</td>\n",
       "      <td>0</td>\n",
       "      <td>3</td>\n",
       "      <td>Moran, Mr. James</td>\n",
       "      <td>male</td>\n",
       "      <td>NaN</td>\n",
       "      <td>0</td>\n",
       "      <td>0</td>\n",
       "      <td>330877</td>\n",
       "      <td>8.4583</td>\n",
       "      <td>NaN</td>\n",
       "      <td>Q</td>\n",
       "    </tr>\n",
       "    <tr>\n",
       "      <th>6</th>\n",
       "      <td>7</td>\n",
       "      <td>0</td>\n",
       "      <td>1</td>\n",
       "      <td>McCarthy, Mr. Timothy J</td>\n",
       "      <td>male</td>\n",
       "      <td>54.0</td>\n",
       "      <td>0</td>\n",
       "      <td>0</td>\n",
       "      <td>17463</td>\n",
       "      <td>51.8625</td>\n",
       "      <td>E46</td>\n",
       "      <td>S</td>\n",
       "    </tr>\n",
       "    <tr>\n",
       "      <th>7</th>\n",
       "      <td>8</td>\n",
       "      <td>0</td>\n",
       "      <td>3</td>\n",
       "      <td>Palsson, Master. Gosta Leonard</td>\n",
       "      <td>male</td>\n",
       "      <td>2.0</td>\n",
       "      <td>3</td>\n",
       "      <td>1</td>\n",
       "      <td>349909</td>\n",
       "      <td>21.0750</td>\n",
       "      <td>NaN</td>\n",
       "      <td>S</td>\n",
       "    </tr>\n",
       "    <tr>\n",
       "      <th>8</th>\n",
       "      <td>9</td>\n",
       "      <td>1</td>\n",
       "      <td>3</td>\n",
       "      <td>Johnson, Mrs. Oscar W (Elisabeth Vilhelmina Berg)</td>\n",
       "      <td>female</td>\n",
       "      <td>27.0</td>\n",
       "      <td>0</td>\n",
       "      <td>2</td>\n",
       "      <td>347742</td>\n",
       "      <td>11.1333</td>\n",
       "      <td>NaN</td>\n",
       "      <td>S</td>\n",
       "    </tr>\n",
       "    <tr>\n",
       "      <th>9</th>\n",
       "      <td>10</td>\n",
       "      <td>1</td>\n",
       "      <td>2</td>\n",
       "      <td>Nasser, Mrs. Nicholas (Adele Achem)</td>\n",
       "      <td>female</td>\n",
       "      <td>14.0</td>\n",
       "      <td>1</td>\n",
       "      <td>0</td>\n",
       "      <td>237736</td>\n",
       "      <td>30.0708</td>\n",
       "      <td>NaN</td>\n",
       "      <td>C</td>\n",
       "    </tr>\n",
       "  </tbody>\n",
       "</table>\n",
       "</div>"
      ],
      "text/plain": [
       "   PassengerId  Survived  Pclass  \\\n",
       "0            1         0       3   \n",
       "1            2         1       1   \n",
       "2            3         1       3   \n",
       "3            4         1       1   \n",
       "4            5         0       3   \n",
       "5            6         0       3   \n",
       "6            7         0       1   \n",
       "7            8         0       3   \n",
       "8            9         1       3   \n",
       "9           10         1       2   \n",
       "\n",
       "                                                Name     Sex   Age  SibSp  \\\n",
       "0                            Braund, Mr. Owen Harris    male  22.0      1   \n",
       "1  Cumings, Mrs. John Bradley (Florence Briggs Th...  female  38.0      1   \n",
       "2                             Heikkinen, Miss. Laina  female  26.0      0   \n",
       "3       Futrelle, Mrs. Jacques Heath (Lily May Peel)  female  35.0      1   \n",
       "4                           Allen, Mr. William Henry    male  35.0      0   \n",
       "5                                   Moran, Mr. James    male   NaN      0   \n",
       "6                            McCarthy, Mr. Timothy J    male  54.0      0   \n",
       "7                     Palsson, Master. Gosta Leonard    male   2.0      3   \n",
       "8  Johnson, Mrs. Oscar W (Elisabeth Vilhelmina Berg)  female  27.0      0   \n",
       "9                Nasser, Mrs. Nicholas (Adele Achem)  female  14.0      1   \n",
       "\n",
       "   Parch            Ticket     Fare Cabin Embarked  \n",
       "0      0         A/5 21171   7.2500   NaN        S  \n",
       "1      0          PC 17599  71.2833   C85        C  \n",
       "2      0  STON/O2. 3101282   7.9250   NaN        S  \n",
       "3      0            113803  53.1000  C123        S  \n",
       "4      0            373450   8.0500   NaN        S  \n",
       "5      0            330877   8.4583   NaN        Q  \n",
       "6      0             17463  51.8625   E46        S  \n",
       "7      1            349909  21.0750   NaN        S  \n",
       "8      2            347742  11.1333   NaN        S  \n",
       "9      0            237736  30.0708   NaN        C  "
      ]
     },
     "execution_count": 3,
     "metadata": {},
     "output_type": "execute_result"
    }
   ],
   "source": [
    "titanic_data_df.head(10)"
   ]
  },
  {
   "cell_type": "markdown",
   "metadata": {},
   "source": [
    "\n",
    "    Survived: Outcome of survival (0 = No; 1 = Yes)\n",
    "    Pclass: Socio-economic class (1 = Upper class; 2 = Middle class; 3 = Lower class)\n",
    "    Name: Name of passenger\n",
    "    Sex: Sex of the passenger\n",
    "    Age: Age of the passenger (Some entries contain NaN)\n",
    "    SibSp: Number of siblings and spouses of the passenger aboard\n",
    "    Parch: Number of parents and children of the passenger aboard\n",
    "    Ticket: Ticket number of the passenger\n",
    "    Fare: Fare paid by the passenger\n",
    "    Cabin Cabin number of the passenger (Some entries contain NaN)\n",
    "    Embarked: Port of embarkation of the passenger (C = Cherbourg; Q = Queenstown; S = Southampton)\n"
   ]
  },
  {
   "cell_type": "markdown",
   "metadata": {},
   "source": [
    "## 3 . Data Exploration"
   ]
  },
  {
   "cell_type": "code",
   "execution_count": 4,
   "metadata": {},
   "outputs": [
    {
     "name": "stdout",
     "output_type": "stream",
     "text": [
      "PassengerId      0\n",
      "Survived         0\n",
      "Pclass           0\n",
      "Name             0\n",
      "Sex              0\n",
      "Age            177\n",
      "SibSp            0\n",
      "Parch            0\n",
      "Ticket           0\n",
      "Fare             0\n",
      "Cabin          687\n",
      "Embarked         2\n",
      "dtype: int64\n"
     ]
    },
    {
     "name": "stderr",
     "output_type": "stream",
     "text": [
      "/home/kashif/anaconda_new/lib/python2.7/site-packages/numpy/lib/function_base.py:3834: RuntimeWarning: Invalid value encountered in percentile\n",
      "  RuntimeWarning)\n"
     ]
    }
   ],
   "source": [
    "titanic_data_df.describe()\n",
    "print titanic_data_df.isnull().sum()"
   ]
  },
  {
   "cell_type": "markdown",
   "metadata": {},
   "source": [
    "#### Based on the above information we can see that 'age' has some 'NaN' values ."
   ]
  },
  {
   "cell_type": "markdown",
   "metadata": {},
   "source": [
    "##### Filling missing Values for 'Age' Column  \n",
    "Replacing Nan values in Age column with the mean age for that particular 'sex'"
   ]
  },
  {
   "cell_type": "code",
   "execution_count": 5,
   "metadata": {},
   "outputs": [],
   "source": [
    "temp_df = pd.read_csv('titanic-data.csv')\n",
    "mean_ages = temp_df.groupby(['Sex'])['Age'].mean()\n",
    "#Function to replace missing NaN values in Age Column\n",
    "def remove_missing_ages(row):\n",
    "    if pd.isnull(row['Age']):\n",
    "        return mean_ages[row['Sex']]\n",
    "    else:\n",
    "        return row['Age']\n",
    "temp_df['Age']=temp_df.apply(remove_missing_ages, axis=1)"
   ]
  },
  {
   "cell_type": "code",
   "execution_count": 6,
   "metadata": {},
   "outputs": [
    {
     "data": {
      "text/plain": [
       "<matplotlib.text.Text at 0x7f55e80fb5d0>"
      ]
     },
     "execution_count": 6,
     "metadata": {},
     "output_type": "execute_result"
    },
    {
     "data": {
      "image/png": "[encoded data removed]",
      "text/plain": [
       "<matplotlib.figure.Figure at 0x7f55ea527a90>"
      ]
     },
     "metadata": {},
     "output_type": "display_data"
    }
   ],
   "source": [
    "fig = plt.figure()\n",
    "ax = fig.add_subplot(1,1,1,)\n",
    "n, bins, patches = ax.hist(temp_df['Age'], bins=30, histtype='bar')\n",
    "\n",
    "#ax.set_xticklabels([n], rotation='vertical')\n",
    "\n",
    "for patch in patches:\n",
    "    patch.set_facecolor('r')\n",
    "\n",
    "plt.title('Distribution of Age data After filling in the missing values')\n",
    "plt.xlabel('Age')\n",
    "plt.ylabel('No of Passengers')"
   ]
  },
  {
   "cell_type": "markdown",
   "metadata": {},
   "source": [
    "As you can see clearly , replacing the missing values with the mean has caused the number of values having average increase greatly . If we continue with the above results we will get incorrect results . So, for now we should drop those rows which have NaN in the age column .\n"
   ]
  },
  {
   "cell_type": "markdown",
   "metadata": {},
   "source": [
    "#### Drop rows which have NaN in the age column"
   ]
  },
  {
   "cell_type": "code",
   "execution_count": 7,
   "metadata": {
    "collapsed": true
   },
   "outputs": [],
   "source": [
    "#Drop rows which have NaN in the age column\n",
    "titanic_data_df = titanic_data_df[np.isfinite(titanic_data_df['Age'])]"
   ]
  },
  {
   "cell_type": "markdown",
   "metadata": {},
   "source": [
    "#### Now let us check if there are anymore NaN or missing values in our dataset left ."
   ]
  },
  {
   "cell_type": "code",
   "execution_count": 8,
   "metadata": {},
   "outputs": [
    {
     "name": "stdout",
     "output_type": "stream",
     "text": [
      "PassengerId      0\n",
      "Survived         0\n",
      "Pclass           0\n",
      "Name             0\n",
      "Sex              0\n",
      "Age              0\n",
      "SibSp            0\n",
      "Parch            0\n",
      "Ticket           0\n",
      "Fare             0\n",
      "Cabin          529\n",
      "Embarked         2\n",
      "dtype: int64\n"
     ]
    }
   ],
   "source": [
    "#print count of NaN values for each column\n",
    "print titanic_data_df.isnull().sum()"
   ]
  },
  {
   "cell_type": "markdown",
   "metadata": {},
   "source": [
    "The NaN values in the dataset basically corresponds to the fact that these passengers were basically not allocated any cabins .  \n",
    "Since, we do not have any particular need for the exact value of the cabin number , we can simply remove this column ."
   ]
  },
  {
   "cell_type": "code",
   "execution_count": 9,
   "metadata": {},
   "outputs": [],
   "source": [
    "#Remove cabin column\n",
    "titanic_data_df = titanic_data_df.drop(['Cabin'],axis=1)"
   ]
  },
  {
   "cell_type": "markdown",
   "metadata": {},
   "source": [
    "##### Filling missing Values for 'Embarked' Column"
   ]
  },
  {
   "cell_type": "code",
   "execution_count": 10,
   "metadata": {},
   "outputs": [
    {
     "data": {
      "text/plain": [
       "S    554\n",
       "C    130\n",
       "Q     28\n",
       "Name: Embarked, dtype: int64"
      ]
     },
     "execution_count": 10,
     "metadata": {},
     "output_type": "execute_result"
    }
   ],
   "source": [
    "#Count of passemgers from each port\n",
    "titanic_data_df['Embarked'].value_counts()"
   ]
  },
  {
   "cell_type": "markdown",
   "metadata": {},
   "source": [
    "It can be seen clearly that the bulk of the passengers embarked from 'Southampton' port ."
   ]
  },
  {
   "cell_type": "code",
   "execution_count": 11,
   "metadata": {},
   "outputs": [
    {
     "data": {
      "text/html": [
       "<div>\n",
       "<table border=\"1\" class=\"dataframe\">\n",
       "  <thead>\n",
       "    <tr style=\"text-align: right;\">\n",
       "      <th></th>\n",
       "      <th>PassengerId</th>\n",
       "      <th>Survived</th>\n",
       "      <th>Pclass</th>\n",
       "      <th>Name</th>\n",
       "      <th>Sex</th>\n",
       "      <th>Age</th>\n",
       "      <th>SibSp</th>\n",
       "      <th>Parch</th>\n",
       "      <th>Ticket</th>\n",
       "      <th>Fare</th>\n",
       "      <th>Embarked</th>\n",
       "    </tr>\n",
       "  </thead>\n",
       "  <tbody>\n",
       "    <tr>\n",
       "      <th>61</th>\n",
       "      <td>62</td>\n",
       "      <td>1</td>\n",
       "      <td>1</td>\n",
       "      <td>Icard, Miss. Amelie</td>\n",
       "      <td>female</td>\n",
       "      <td>38.0</td>\n",
       "      <td>0</td>\n",
       "      <td>0</td>\n",
       "      <td>113572</td>\n",
       "      <td>80.0</td>\n",
       "      <td>NaN</td>\n",
       "    </tr>\n",
       "    <tr>\n",
       "      <th>829</th>\n",
       "      <td>830</td>\n",
       "      <td>1</td>\n",
       "      <td>1</td>\n",
       "      <td>Stone, Mrs. George Nelson (Martha Evelyn)</td>\n",
       "      <td>female</td>\n",
       "      <td>62.0</td>\n",
       "      <td>0</td>\n",
       "      <td>0</td>\n",
       "      <td>113572</td>\n",
       "      <td>80.0</td>\n",
       "      <td>NaN</td>\n",
       "    </tr>\n",
       "  </tbody>\n",
       "</table>\n",
       "</div>"
      ],
      "text/plain": [
       "     PassengerId  Survived  Pclass                                       Name  \\\n",
       "61            62         1       1                        Icard, Miss. Amelie   \n",
       "829          830         1       1  Stone, Mrs. George Nelson (Martha Evelyn)   \n",
       "\n",
       "        Sex   Age  SibSp  Parch  Ticket  Fare Embarked  \n",
       "61   female  38.0      0      0  113572  80.0      NaN  \n",
       "829  female  62.0      0      0  113572  80.0      NaN  "
      ]
     },
     "execution_count": 11,
     "metadata": {},
     "output_type": "execute_result"
    }
   ],
   "source": [
    "#Let is now list the ports with the missing values\n",
    "ports_missing = titanic_data_df[titanic_data_df['Embarked'].isnull()]\n",
    "ports_missing"
   ]
  },
  {
   "cell_type": "markdown",
   "metadata": {},
   "source": [
    "Since the bulk of passengers embarked from 'Southampton', I will fill these two rows with 'Southampton' . Here 'Southampton' is mode for this column . So basically we are replacing the missing values with the mode ."
   ]
  },
  {
   "cell_type": "code",
   "execution_count": 12,
   "metadata": {
    "collapsed": true
   },
   "outputs": [],
   "source": [
    "#fill NaN values with 'S'\n",
    "titanic_data_df['Embarked'].fillna('S',inplace=True)"
   ]
  },
  {
   "cell_type": "markdown",
   "metadata": {},
   "source": [
    "#### Removing unwanted columns  \n",
    "Since there is no use of 'Name' and 'Ticket' column in our analysis , we can remove them as well ."
   ]
  },
  {
   "cell_type": "code",
   "execution_count": 13,
   "metadata": {
    "collapsed": true
   },
   "outputs": [],
   "source": [
    "#Remove 'Name' and 'Ticket' column\n",
    "titanic_data_df = titanic_data_df.drop(['Name','Ticket'],axis=1)"
   ]
  },
  {
   "cell_type": "markdown",
   "metadata": {},
   "source": [
    "#### Adding new columns  \n",
    "\n",
    "1. I will be adding a new column 'Family Size' which will be the SibSp and Parch + 1  \n",
    "2. A new column 'Age-group' will also be added to find which age group has the  highest number of survivors ."
   ]
  },
  {
   "cell_type": "code",
   "execution_count": 14,
   "metadata": {},
   "outputs": [
    {
     "data": {
      "text/html": [
       "<div>\n",
       "<table border=\"1\" class=\"dataframe\">\n",
       "  <thead>\n",
       "    <tr style=\"text-align: right;\">\n",
       "      <th></th>\n",
       "      <th>PassengerId</th>\n",
       "      <th>Survived</th>\n",
       "      <th>Pclass</th>\n",
       "      <th>Sex</th>\n",
       "      <th>Age</th>\n",
       "      <th>SibSp</th>\n",
       "      <th>Parch</th>\n",
       "      <th>Fare</th>\n",
       "      <th>Embarked</th>\n",
       "      <th>FamilySize</th>\n",
       "    </tr>\n",
       "  </thead>\n",
       "  <tbody>\n",
       "    <tr>\n",
       "      <th>0</th>\n",
       "      <td>1</td>\n",
       "      <td>0</td>\n",
       "      <td>3</td>\n",
       "      <td>male</td>\n",
       "      <td>22.0</td>\n",
       "      <td>1</td>\n",
       "      <td>0</td>\n",
       "      <td>7.2500</td>\n",
       "      <td>S</td>\n",
       "      <td>2</td>\n",
       "    </tr>\n",
       "    <tr>\n",
       "      <th>1</th>\n",
       "      <td>2</td>\n",
       "      <td>1</td>\n",
       "      <td>1</td>\n",
       "      <td>female</td>\n",
       "      <td>38.0</td>\n",
       "      <td>1</td>\n",
       "      <td>0</td>\n",
       "      <td>71.2833</td>\n",
       "      <td>C</td>\n",
       "      <td>2</td>\n",
       "    </tr>\n",
       "    <tr>\n",
       "      <th>2</th>\n",
       "      <td>3</td>\n",
       "      <td>1</td>\n",
       "      <td>3</td>\n",
       "      <td>female</td>\n",
       "      <td>26.0</td>\n",
       "      <td>0</td>\n",
       "      <td>0</td>\n",
       "      <td>7.9250</td>\n",
       "      <td>S</td>\n",
       "      <td>1</td>\n",
       "    </tr>\n",
       "    <tr>\n",
       "      <th>3</th>\n",
       "      <td>4</td>\n",
       "      <td>1</td>\n",
       "      <td>1</td>\n",
       "      <td>female</td>\n",
       "      <td>35.0</td>\n",
       "      <td>1</td>\n",
       "      <td>0</td>\n",
       "      <td>53.1000</td>\n",
       "      <td>S</td>\n",
       "      <td>2</td>\n",
       "    </tr>\n",
       "    <tr>\n",
       "      <th>4</th>\n",
       "      <td>5</td>\n",
       "      <td>0</td>\n",
       "      <td>3</td>\n",
       "      <td>male</td>\n",
       "      <td>35.0</td>\n",
       "      <td>0</td>\n",
       "      <td>0</td>\n",
       "      <td>8.0500</td>\n",
       "      <td>S</td>\n",
       "      <td>1</td>\n",
       "    </tr>\n",
       "    <tr>\n",
       "      <th>6</th>\n",
       "      <td>7</td>\n",
       "      <td>0</td>\n",
       "      <td>1</td>\n",
       "      <td>male</td>\n",
       "      <td>54.0</td>\n",
       "      <td>0</td>\n",
       "      <td>0</td>\n",
       "      <td>51.8625</td>\n",
       "      <td>S</td>\n",
       "      <td>1</td>\n",
       "    </tr>\n",
       "    <tr>\n",
       "      <th>7</th>\n",
       "      <td>8</td>\n",
       "      <td>0</td>\n",
       "      <td>3</td>\n",
       "      <td>male</td>\n",
       "      <td>2.0</td>\n",
       "      <td>3</td>\n",
       "      <td>1</td>\n",
       "      <td>21.0750</td>\n",
       "      <td>S</td>\n",
       "      <td>5</td>\n",
       "    </tr>\n",
       "    <tr>\n",
       "      <th>8</th>\n",
       "      <td>9</td>\n",
       "      <td>1</td>\n",
       "      <td>3</td>\n",
       "      <td>female</td>\n",
       "      <td>27.0</td>\n",
       "      <td>0</td>\n",
       "      <td>2</td>\n",
       "      <td>11.1333</td>\n",
       "      <td>S</td>\n",
       "      <td>3</td>\n",
       "    </tr>\n",
       "    <tr>\n",
       "      <th>9</th>\n",
       "      <td>10</td>\n",
       "      <td>1</td>\n",
       "      <td>2</td>\n",
       "      <td>female</td>\n",
       "      <td>14.0</td>\n",
       "      <td>1</td>\n",
       "      <td>0</td>\n",
       "      <td>30.0708</td>\n",
       "      <td>C</td>\n",
       "      <td>2</td>\n",
       "    </tr>\n",
       "    <tr>\n",
       "      <th>10</th>\n",
       "      <td>11</td>\n",
       "      <td>1</td>\n",
       "      <td>3</td>\n",
       "      <td>female</td>\n",
       "      <td>4.0</td>\n",
       "      <td>1</td>\n",
       "      <td>1</td>\n",
       "      <td>16.7000</td>\n",
       "      <td>S</td>\n",
       "      <td>3</td>\n",
       "    </tr>\n",
       "  </tbody>\n",
       "</table>\n",
       "</div>"
      ],
      "text/plain": [
       "    PassengerId  Survived  Pclass     Sex   Age  SibSp  Parch     Fare  \\\n",
       "0             1         0       3    male  22.0      1      0   7.2500   \n",
       "1             2         1       1  female  38.0      1      0  71.2833   \n",
       "2             3         1       3  female  26.0      0      0   7.9250   \n",
       "3             4         1       1  female  35.0      1      0  53.1000   \n",
       "4             5         0       3    male  35.0      0      0   8.0500   \n",
       "6             7         0       1    male  54.0      0      0  51.8625   \n",
       "7             8         0       3    male   2.0      3      1  21.0750   \n",
       "8             9         1       3  female  27.0      0      2  11.1333   \n",
       "9            10         1       2  female  14.0      1      0  30.0708   \n",
       "10           11         1       3  female   4.0      1      1  16.7000   \n",
       "\n",
       "   Embarked  FamilySize  \n",
       "0         S           2  \n",
       "1         C           2  \n",
       "2         S           1  \n",
       "3         S           2  \n",
       "4         S           1  \n",
       "6         S           1  \n",
       "7         S           5  \n",
       "8         S           3  \n",
       "9         C           2  \n",
       "10        S           3  "
      ]
     },
     "execution_count": 14,
     "metadata": {},
     "output_type": "execute_result"
    }
   ],
   "source": [
    "#Function to add new column 'FamilySize'\n",
    "def add_family(df):\n",
    "    df['FamilySize'] = df['SibSp'] + df['Parch'] + 1 \n",
    "    return df\n",
    "\n",
    "titanic_data_df = add_family(titanic_data_df)\n",
    "titanic_data_df.head(10)"
   ]
  },
  {
   "cell_type": "markdown",
   "metadata": {},
   "source": [
    "I will now divide all the passengers into age bins of size 10 and group them accordingly . This will help us to perform analysis based more easily instead of working on the numerical 'age' column ."
   ]
  },
  {
   "cell_type": "code",
   "execution_count": 15,
   "metadata": {},
   "outputs": [],
   "source": [
    "#Make bins and group all passengers into these bins and store those values in a new column 'ageGroup'\n",
    "age_bins = ['0-9', '10-19', '20-29', '30-39', '40-49', '50-59', '60-69', '70-79']\n",
    "titanic_data_df['ageGroup'] = pd.cut(titanic_data_df.Age, range(0, 81, 10), right=False, labels=age_bins)"
   ]
  },
  {
   "cell_type": "code",
   "execution_count": 16,
   "metadata": {},
   "outputs": [
    {
     "data": {
      "text/html": [
       "<div>\n",
       "<table border=\"1\" class=\"dataframe\">\n",
       "  <thead>\n",
       "    <tr style=\"text-align: right;\">\n",
       "      <th></th>\n",
       "      <th>PassengerId</th>\n",
       "      <th>Survived</th>\n",
       "      <th>Pclass</th>\n",
       "      <th>Sex</th>\n",
       "      <th>Age</th>\n",
       "      <th>SibSp</th>\n",
       "      <th>Parch</th>\n",
       "      <th>Fare</th>\n",
       "      <th>Embarked</th>\n",
       "      <th>FamilySize</th>\n",
       "      <th>ageGroup</th>\n",
       "    </tr>\n",
       "  </thead>\n",
       "  <tbody>\n",
       "    <tr>\n",
       "      <th>0</th>\n",
       "      <td>1</td>\n",
       "      <td>0</td>\n",
       "      <td>3</td>\n",
       "      <td>male</td>\n",
       "      <td>22.0</td>\n",
       "      <td>1</td>\n",
       "      <td>0</td>\n",
       "      <td>7.2500</td>\n",
       "      <td>S</td>\n",
       "      <td>2</td>\n",
       "      <td>20-29</td>\n",
       "    </tr>\n",
       "    <tr>\n",
       "      <th>1</th>\n",
       "      <td>2</td>\n",
       "      <td>1</td>\n",
       "      <td>1</td>\n",
       "      <td>female</td>\n",
       "      <td>38.0</td>\n",
       "      <td>1</td>\n",
       "      <td>0</td>\n",
       "      <td>71.2833</td>\n",
       "      <td>C</td>\n",
       "      <td>2</td>\n",
       "      <td>30-39</td>\n",
       "    </tr>\n",
       "    <tr>\n",
       "      <th>2</th>\n",
       "      <td>3</td>\n",
       "      <td>1</td>\n",
       "      <td>3</td>\n",
       "      <td>female</td>\n",
       "      <td>26.0</td>\n",
       "      <td>0</td>\n",
       "      <td>0</td>\n",
       "      <td>7.9250</td>\n",
       "      <td>S</td>\n",
       "      <td>1</td>\n",
       "      <td>20-29</td>\n",
       "    </tr>\n",
       "    <tr>\n",
       "      <th>3</th>\n",
       "      <td>4</td>\n",
       "      <td>1</td>\n",
       "      <td>1</td>\n",
       "      <td>female</td>\n",
       "      <td>35.0</td>\n",
       "      <td>1</td>\n",
       "      <td>0</td>\n",
       "      <td>53.1000</td>\n",
       "      <td>S</td>\n",
       "      <td>2</td>\n",
       "      <td>30-39</td>\n",
       "    </tr>\n",
       "    <tr>\n",
       "      <th>4</th>\n",
       "      <td>5</td>\n",
       "      <td>0</td>\n",
       "      <td>3</td>\n",
       "      <td>male</td>\n",
       "      <td>35.0</td>\n",
       "      <td>0</td>\n",
       "      <td>0</td>\n",
       "      <td>8.0500</td>\n",
       "      <td>S</td>\n",
       "      <td>1</td>\n",
       "      <td>30-39</td>\n",
       "    </tr>\n",
       "  </tbody>\n",
       "</table>\n",
       "</div>"
      ],
      "text/plain": [
       "   PassengerId  Survived  Pclass     Sex   Age  SibSp  Parch     Fare  \\\n",
       "0            1         0       3    male  22.0      1      0   7.2500   \n",
       "1            2         1       1  female  38.0      1      0  71.2833   \n",
       "2            3         1       3  female  26.0      0      0   7.9250   \n",
       "3            4         1       1  female  35.0      1      0  53.1000   \n",
       "4            5         0       3    male  35.0      0      0   8.0500   \n",
       "\n",
       "  Embarked  FamilySize ageGroup  \n",
       "0        S           2    20-29  \n",
       "1        C           2    30-39  \n",
       "2        S           1    20-29  \n",
       "3        S           2    30-39  \n",
       "4        S           1    30-39  "
      ]
     },
     "execution_count": 16,
     "metadata": {},
     "output_type": "execute_result"
    }
   ],
   "source": [
    "titanic_data_df.head(5)"
   ]
  },
  {
   "cell_type": "markdown",
   "metadata": {},
   "source": [
    "## 3 . Data Exploration\n",
    "\n",
    "### Which gender had higher chances of survival ?"
   ]
  },
  {
   "cell_type": "code",
   "execution_count": 17,
   "metadata": {},
   "outputs": [
    {
     "name": "stdout",
     "output_type": "stream",
     "text": [
      "Count of female/male passenges who survived or not \n",
      "Here 0 means not survived and 1 means survived\n"
     ]
    },
    {
     "data": {
      "text/html": [
       "<div>\n",
       "<table border=\"1\" class=\"dataframe\">\n",
       "  <thead>\n",
       "    <tr style=\"text-align: right;\">\n",
       "      <th></th>\n",
       "      <th></th>\n",
       "      <th>PassengerId</th>\n",
       "    </tr>\n",
       "    <tr>\n",
       "      <th>Sex</th>\n",
       "      <th>Survived</th>\n",
       "      <th></th>\n",
       "    </tr>\n",
       "  </thead>\n",
       "  <tbody>\n",
       "    <tr>\n",
       "      <th rowspan=\"2\" valign=\"top\">female</th>\n",
       "      <th>0</th>\n",
       "      <td>64</td>\n",
       "    </tr>\n",
       "    <tr>\n",
       "      <th>1</th>\n",
       "      <td>197</td>\n",
       "    </tr>\n",
       "    <tr>\n",
       "      <th rowspan=\"2\" valign=\"top\">male</th>\n",
       "      <th>0</th>\n",
       "      <td>360</td>\n",
       "    </tr>\n",
       "    <tr>\n",
       "      <th>1</th>\n",
       "      <td>93</td>\n",
       "    </tr>\n",
       "  </tbody>\n",
       "</table>\n",
       "</div>"
      ],
      "text/plain": [
       "                 PassengerId\n",
       "Sex    Survived             \n",
       "female 0                  64\n",
       "       1                 197\n",
       "male   0                 360\n",
       "       1                  93"
      ]
     },
     "execution_count": 17,
     "metadata": {},
     "output_type": "execute_result"
    }
   ],
   "source": [
    "#Group passengers by Sex and Survived column\n",
    "titanic_age_df = titanic_data_df.groupby(['Sex', 'Survived'])\n",
    "#Get count of the above mentioned groups\n",
    "titanic_age_passenger_count_df = titanic_age_df.count()[['PassengerId']]\n",
    "print \"Count of female/male passenges who survived or not \\nHere 0 means not survived and 1 means survived\"\n",
    "titanic_age_passenger_count_df"
   ]
  },
  {
   "cell_type": "code",
   "execution_count": 18,
   "metadata": {},
   "outputs": [
    {
     "name": "stdout",
     "output_type": "stream",
     "text": [
      "Male Survival Percentage % is  20.5298013245\n",
      "Female Survival Percentage % is  75.4789272031\n"
     ]
    }
   ],
   "source": [
    "#get male survival rate\n",
    "male_survival_rate = (titanic_age_passenger_count_df.loc['male',1]/ titanic_data_df[titanic_data_df['Sex']=='male'].count()[['PassengerId']])*100.0\n",
    "\n",
    "#get female survival rate\n",
    "female_survival_rate = (titanic_age_passenger_count_df.loc['female',1]/ titanic_data_df[titanic_data_df['Sex']=='female'].count()[['PassengerId']])*100.0\n",
    "\n",
    "print \"Male Survival Percentage % is \",\n",
    "print male_survival_rate[0]\n",
    "print \"Female Survival Percentage % is \",\n",
    "print female_survival_rate[0]\n"
   ]
  },
  {
   "cell_type": "markdown",
   "metadata": {},
   "source": [
    "#### Observation :\n",
    "As it can be seen clearly females had a greater chance of survival compared to males . One reason for this may be the fact that generally in such dangerous situations , females are given preference over males and their safety is higher priority ."
   ]
  },
  {
   "cell_type": "markdown",
   "metadata": {},
   "source": [
    "### Does the port of embarkement had any relation to survival rate ?"
   ]
  },
  {
   "cell_type": "code",
   "execution_count": 19,
   "metadata": {},
   "outputs": [
    {
     "name": "stdout",
     "output_type": "stream",
     "text": [
      "Count of passengers from different ports : \n",
      "\"C\" stands for Southampton\n",
      "\"S\" stands for Southampton\n",
      "\"Q\" stands for Queenstown\n",
      "\n",
      "\n",
      "          PassengerId\n",
      "Embarked             \n",
      "C                 130\n",
      "Q                  28\n",
      "S                 556\n"
     ]
    }
   ],
   "source": [
    "print \"Count of passengers from different ports : \\n\\\"C\\\" stands for Southampton\"\n",
    "print \"\\\"S\\\" stands for Southampton\"\n",
    "print \"\\\"Q\\\" stands for Queenstown\\n\\n\"\n",
    "print titanic_data_df.groupby('Embarked').count()[['PassengerId']]\n"
   ]
  },
  {
   "cell_type": "markdown",
   "metadata": {},
   "source": [
    "As it can be seen clearly that Southampton had the highest number passengers boarding from that port . Let us investigate if the survival rates agree with the above states as well ."
   ]
  },
  {
   "cell_type": "code",
   "execution_count": 20,
   "metadata": {},
   "outputs": [
    {
     "name": "stdout",
     "output_type": "stream",
     "text": [
      "Survival percentage for each port\n"
     ]
    },
    {
     "data": {
      "text/html": [
       "<div>\n",
       "<table border=\"1\" class=\"dataframe\">\n",
       "  <thead>\n",
       "    <tr style=\"text-align: right;\">\n",
       "      <th></th>\n",
       "      <th>Survived</th>\n",
       "    </tr>\n",
       "    <tr>\n",
       "      <th>Embarked</th>\n",
       "      <th></th>\n",
       "    </tr>\n",
       "  </thead>\n",
       "  <tbody>\n",
       "    <tr>\n",
       "      <th>C</th>\n",
       "      <td>60.769231</td>\n",
       "    </tr>\n",
       "    <tr>\n",
       "      <th>Q</th>\n",
       "      <td>28.571429</td>\n",
       "    </tr>\n",
       "    <tr>\n",
       "      <th>S</th>\n",
       "      <td>36.510791</td>\n",
       "    </tr>\n",
       "  </tbody>\n",
       "</table>\n",
       "</div>"
      ],
      "text/plain": [
       "           Survived\n",
       "Embarked           \n",
       "C         60.769231\n",
       "Q         28.571429\n",
       "S         36.510791"
      ]
     },
     "execution_count": 20,
     "metadata": {},
     "output_type": "execute_result"
    }
   ],
   "source": [
    "print \"Survival percentage for each port\"\n",
    "titanic_data_df.groupby('Embarked').mean()[['Survived']] * 100"
   ]
  },
  {
   "cell_type": "markdown",
   "metadata": {},
   "source": [
    "Southampton had the least survival rate among all the ports . It may be possible that other factors are contributing to the survival rate in combination with the embarked port ."
   ]
  },
  {
   "cell_type": "markdown",
   "metadata": {},
   "source": [
    "Let us check if the number of females boarding from these ports had anything to do with the above results."
   ]
  },
  {
   "cell_type": "code",
   "execution_count": 21,
   "metadata": {},
   "outputs": [
    {
     "name": "stdout",
     "output_type": "stream",
     "text": [
      "\n",
      "%age of passengers boarded from Southampton : \n",
      "Female 33.8129496403\n",
      "Male 66.1870503597\n",
      "\n",
      "\n",
      "%age of passengers boarded from Cherbourg : \n",
      "Female 46.9230769231\n",
      "Male 53.0769230769\n",
      "\n",
      "\n",
      "%age of passengers boarded from Queenstown : \n",
      "Female 42.8571428571\n",
      "Male 57.1428571429\n"
     ]
    }
   ],
   "source": [
    "#Get count of passengers for each gender according to the port embarked \n",
    "embarked_gender = titanic_data_df.groupby(['Embarked', 'Sex']).count()[['PassengerId']]\n",
    "female_C = embarked_gender.loc['C','female']/embarked_gender.loc[['C']].sum()*100.0;\n",
    "male_C = 100.0 - female_C\n",
    "\n",
    "female_Q = embarked_gender.loc['Q', 'female']/ embarked_gender.loc[['Q']].sum()*100.0;\n",
    "male_Q = 100.0 - female_Q\n",
    "\n",
    "female_S = embarked_gender.loc['S', 'female']/ embarked_gender.loc[['S']].sum()*100;\n",
    "male_S = 100.0 - female_S\n",
    "\n",
    "\n",
    "print \"\\n%age of passengers boarded from Southampton : \"\n",
    "print \"Female\",\n",
    "print female_S[0]\n",
    "print \"Male\",\n",
    "print male_S[0]\n",
    "\n",
    "print \"\\n\\n%age of passengers boarded from Cherbourg : \"\n",
    "print \"Female\",\n",
    "print female_C[0]\n",
    "print \"Male\",\n",
    "print male_C[0]\n",
    "\n",
    "print \"\\n\\n%age of passengers boarded from Queenstown : \"\n",
    "print \"Female\",\n",
    "print female_Q[0]\n",
    "print \"Male\",\n",
    "print male_Q[0]\n"
   ]
  },
  {
   "cell_type": "markdown",
   "metadata": {},
   "source": [
    "Since the percenage of females boarding from Cherbourg is not very high as compared to the other ports , then perhaps some other factor is affecting the survival rate besides the sex .     Now we investigate the fare paid at these embarked ports . "
   ]
  },
  {
   "cell_type": "code",
   "execution_count": 22,
   "metadata": {},
   "outputs": [
    {
     "data": {
      "image/png": "[encoded data removed]",
      "text/plain": [
       "<matplotlib.figure.Figure at 0x7f55e7fbb650>"
      ]
     },
     "metadata": {},
     "output_type": "display_data"
    }
   ],
   "source": [
    "#Box plots based on Embarked Ports and Fares paid at those ports\n",
    "data_plot = pd.DataFrame(titanic_data_df[[\"Fare\", \"Embarked\"]])\n",
    "box_plot = data_plot.boxplot(by='Embarked', figsize=(8,8))\n",
    "plt.ylabel(\"Fare Price\");\n",
    "plt.xlabel(\"Embarked port\")\n",
    "plt.title(\"Boxplot of Fare data paid at the Embarked port\")\n",
    "box_plot.set_xticklabels(('Cherbourg','Queenstown','Southampton'))\n",
    "plt.show()"
   ]
  },
  {
   "cell_type": "markdown",
   "metadata": {},
   "source": [
    "As it can be seen claerly from the above box plot , the people boarding from Cherbourg paid the highest amount among all the ports and people boarding from Queenstown paid the lowest . It can be concluded that people who comparatively richer boarded from Cherbourg , while the poorer ones boarded from Queenstown ."
   ]
  },
  {
   "cell_type": "code",
   "execution_count": 23,
   "metadata": {},
   "outputs": [
    {
     "name": "stderr",
     "output_type": "stream",
     "text": [
      "/home/kashif/anaconda_new/lib/python2.7/site-packages/matplotlib/figure.py:397: UserWarning: matplotlib is currently using a non-GUI backend, so cannot show the figure\n",
      "  \"matplotlib is currently using a non-GUI backend, \"\n"
     ]
    },
    {
     "data": {
      "image/png": "[encoded data removed]",
      "text/plain": [
       "<matplotlib.figure.Figure at 0x7f55e78e0a10>"
      ]
     },
     "metadata": {},
     "output_type": "display_data"
    }
   ],
   "source": [
    "fig1 = plt.figure()\n",
    "first_axis = fig1.add_subplot(111) \n",
    "second_axis = first_axis.twinx()\n",
    "\n",
    "#The scales of the y-axis on the left and right hand side are different .\n",
    "\n",
    "#group data by fare paid and port of embarkment\n",
    "survived_df = titanic_data_df.groupby(['Embarked']).mean()[[\"Survived\"]]\n",
    "fare_df = titanic_data_df.groupby(['Embarked']).mean()[[\"Fare\"]]\n",
    "\n",
    "#plot data for fare and port of embarkment\n",
    "fare_df.plot(kind='bar',grid=True,ax=first_axis,width=0.2,position=0)\n",
    "survived_df.plot(kind='bar',color='yellow',ax=second_axis,grid=True,width=0.2, position=1,figsize=(6,6))\n",
    "\n",
    "#set axis\n",
    "first_axis.set_ylabel('Average Fare amount')\n",
    "second_axis.set_ylabel('Survival %')\n",
    "\n",
    "#display legend\n",
    "first_axis.legend([\"Average Fare\"], loc=\"center\", bbox_to_anchor=(0.55, 0.95))\n",
    "second_axis.legend([\"Survival %\"],loc=\"center\", bbox_to_anchor=(0.525, 0.87))\n",
    "\n",
    "plt.title('Survival Rate and Fare paid for each embarked port')\n",
    "fig1.show()"
   ]
  },
  {
   "cell_type": "markdown",
   "metadata": {},
   "source": [
    "#### Observation :\n",
    "As it can be seen clearly from the above plot that the passenegers boarding from Cherbourg paid higher fair prices since they might be comparatively richer . Also they had higher survival rates . One of the reasons that may explain this phenomenon is that when the titanic was sinking , richer people were still being more prefernce , may be due to social factors ( like the richer people should be given higher preference ) or they might have bribed the officials to get to the boats first ."
   ]
  },
  {
   "cell_type": "markdown",
   "metadata": {},
   "source": [
    "### Does age have any effect on the survival rate ?"
   ]
  },
  {
   "cell_type": "code",
   "execution_count": 24,
   "metadata": {},
   "outputs": [
    {
     "data": {
      "text/plain": [
       "<matplotlib.text.Text at 0x7f55e79e1690>"
      ]
     },
     "execution_count": 24,
     "metadata": {},
     "output_type": "execute_result"
    },
    {
     "data": {
      "image/png": "[encoded data removed]",
      "text/plain": [
       "<matplotlib.figure.Figure at 0x7f55e7a31090>"
      ]
     },
     "metadata": {},
     "output_type": "display_data"
    }
   ],
   "source": [
    "#Get age group of survivors\n",
    "s_age_group = titanic_data_df[titanic_data_df.Survived==True].groupby(['ageGroup']).size().values\n",
    "\n",
    "#Get age group on non-survivors\n",
    "non_s_age_group = titanic_data_df[titanic_data_df.Survived==False].groupby(['ageGroup']).size().values\n",
    "\n",
    "fig = plt.figure()\n",
    "ax1 = fig.add_subplot(111)\n",
    "ax1.bar(xrange(len(s_age_group)), s_age_group, label='Survivors', color='b')\n",
    "ax1.bar(xrange(len(non_s_age_group)), non_s_age_group, bottom=s_age_group, label='Non-Survivors', color='y')\n",
    "plt.sca(ax1)\n",
    "plt.legend()\n",
    "\n",
    "#Set ticks for x-axis\n",
    "bins_ticks = xrange(len(age_bins))\n",
    "bins_ticks = np.array(bins_ticks)+0.5\n",
    "plt.xticks(bins_ticks, age_bins)\n",
    "\n",
    "ax1.set_ylabel(\"Count of passengers\")\n",
    "ax1.set_xlabel(\"Age Group\")\n",
    "\n",
    "ax1.set_title(\"Count of survivors grouped by age group\")\n"
   ]
  },
  {
   "cell_type": "code",
   "execution_count": 25,
   "metadata": {},
   "outputs": [
    {
     "data": {
      "text/plain": [
       "<matplotlib.text.Text at 0x7f55e7635710>"
      ]
     },
     "execution_count": 25,
     "metadata": {},
     "output_type": "execute_result"
    },
    {
     "data": {
      "image/png": "[encoded data removed]",
      "text/plain": [
       "<matplotlib.figure.Figure at 0x7f55e793da10>"
      ]
     },
     "metadata": {},
     "output_type": "display_data"
    }
   ],
   "source": [
    "#caluclate survived/non-survived percentage for each age group\n",
    "total_pass = s_age_group + non_s_age_group\n",
    "survive_percent = np.divide(s_age_group, total_pass, dtype=float)*100 \n",
    "non_survive_percent = np.divide(non_s_age_group, total_pass, dtype=float)*100  \n",
    "\n",
    "#plot the graph for each age group\n",
    "fig = plt.figure()\n",
    "ax1 = fig.add_subplot(111)\n",
    "ax1.bar(range(len(survive_percent)), survive_percent, label='Survivors', color='b')\n",
    "ax1.bar(range(len(non_survive_percent)), non_survive_percent, bottom=survive_percent, label='Non-Survivors', color='y')\n",
    "plt.sca(ax1)\n",
    "plt.legend()\n",
    "bins_ticks = xrange(len(age_bins))\n",
    "bins_ticks = np.array(bins_ticks)+0.5\n",
    "plt.xticks(bins_ticks, age_bins)\n",
    "ax1.set_ylabel(\"Percentage\")\n",
    "ax1.set_xlabel(\"Age Group\")\n",
    "\n",
    "ax1.set_title(\"%age of survivors by age group\")\n"
   ]
  },
  {
   "cell_type": "markdown",
   "metadata": {},
   "source": [
    "#### Observation :\n",
    "As it can be observed from the above graphs for age-group :\n",
    "1. Children were given preference over adults\n",
    "2. There were no survivor with age 70-79 . One reason may be that in such old age they might have not reached the life boats on time .\n"
   ]
  },
  {
   "cell_type": "markdown",
   "metadata": {},
   "source": [
    "### Did Family Size have any effect on the survival rate ?"
   ]
  },
  {
   "cell_type": "code",
   "execution_count": 26,
   "metadata": {},
   "outputs": [
    {
     "data": {
      "text/plain": [
       "<matplotlib.text.Text at 0x7f55e7674d10>"
      ]
     },
     "execution_count": 26,
     "metadata": {},
     "output_type": "execute_result"
    },
    {
     "data": {
      "image/png": "[encoded data removed]",
      "text/plain": [
       "<matplotlib.figure.Figure at 0x7f55e7a45050>"
      ]
     },
     "metadata": {},
     "output_type": "display_data"
    }
   ],
   "source": [
    "#plot for survival rate vs family size\n",
    "plot = titanic_data_df.groupby(['FamilySize']).mean()[['Survived']].plot(kind=\"line\",marker='.',markersize=10,title=\"Survival rate vs Family Size\")\n",
    "plot.set_ylabel(\"survival rate\")\n",
    "plot.set_xlabel(\"family size\")"
   ]
  },
  {
   "cell_type": "markdown",
   "metadata": {},
   "source": [
    "#### Observation :\n",
    "It is evident from the above plot that :\n",
    "1. Single passengers had lesser chances of survival (Although this seems quite strange as they could have accomodated easily . However , since we have seen that children were given more preference , it might be the case while boarding children , their parents were boarded on to the same boat as well. Hence , single passengers were left out . )\n",
    "2. Families with size between 2,3,4 and 7 had higher survival rates .\n",
    "3. Larger families (size 8,9,10) had lower survival rates as it might be difficult to accomdate them on to the same boat ."
   ]
  },
  {
   "cell_type": "markdown",
   "metadata": {},
   "source": [
    "## 4 . Conclusion \n",
    "\n",
    "The following factors affected the survival rate of the passengers :\n",
    "\n",
    "**1. Age** : Children were given more preference over adults . Hence their chances of survival were comparitively higher . This is attributed to the fact that in any dangerous situation the safety of children is given highest priority .  \n",
    "\n",
    "**2.  Sex** : Female were given more preference over males and their chances of survival were higher as compared to males . This is attributed to the fact that in any dangerous situation the safety of female is given priority over the safety of males .  \n",
    "\n",
    "**3. Port of Embarkment** : People boarding from Cherbourg had the highest rate of survival as compared to passengers boarding from other ports , which may be attributed to the fact people boarding from Cherbourg paid higher fair prices and they might be comparatively more richer that passengers boarding from other ports . Since they were richer , they might have bribed the officials or based on social preference , they got on to the boats more easily .  \n",
    "\n",
    "**4. Family Size** : If they family size was between 2-4 , then the chances of survival were high since children had to be saved first and families of such small size could be easily accomodated as well . However larger families had lower survival rates since they could not be boared onto the same boats easily . Also , single passengers had lesser survival rates as compared to ones with families ."
   ]
  },
  {
   "cell_type": "markdown",
   "metadata": {},
   "source": [
    "## Limitations of my Analysis :\n",
    "1. I have simply ignored those rows which have NaN values in the age column .\n",
    "2. More information like if the person on board was part of the crew or not , or if the person held any high position in the society , etc. These factors may have also contributed towards the survival .\n",
    "3. I could have included analysis for 'Pclass' column as it could have some effect on the survival rate .\n",
    "4. I have investigated the factors seperately . It might be the case that combining more than 2 factors together may have revealed a different story altogether ."
   ]
  },
  {
   "cell_type": "markdown",
   "metadata": {},
   "source": [
    "## References :\n",
    "\n",
    "1. http://matplotlib.org/1.3.0/examples/pylab_examples/filledmarker_demo.html\n",
    "2. https://www.kaggle.com/mrisdal/titanic/exploring-survival-on-the-titanic\n",
    "3. http://matplotlib.org/users/pyplot_tutorial.html\n",
    "4. http://pandas.pydata.org/pandas-docs/stable/10min.html\n",
    "5. http://pandas.pydata.org/pandas-docs/stable/tutorials.html"
   ]
  }
 ],
 "metadata": {
  "anaconda-cloud": {},
  "kernelspec": {
   "display_name": "Python 3",
   "language": "python",
   "name": "python3"
  },
  "language_info": {
   "codemirror_mode": {
    "name": "ipython",
    "version": 3
   },
   "file_extension": ".py",
   "mimetype": "text/x-python",
   "name": "python",
   "nbconvert_exporter": "python",
   "pygments_lexer": "ipython3",
   "version": "3.7.1"
  }
 },
 "nbformat": 4,
 "nbformat_minor": 1
}
